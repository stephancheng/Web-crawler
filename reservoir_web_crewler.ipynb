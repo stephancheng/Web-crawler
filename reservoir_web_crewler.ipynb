{
 "cells": [
  {
   "cell_type": "code",
   "execution_count": 1,
   "metadata": {},
   "outputs": [],
   "source": [
    "from selenium import webdriver\n",
    "from selenium.webdriver.chrome.options import Options\n",
    "import time\n",
    "from selenium.webdriver.support.ui import Select\n",
    "from bs4 import BeautifulSoup\n",
    "import pandas as pd\n",
    "import numpy as np\n",
    "from datetime import datetime"
   ]
  },
  {
   "cell_type": "code",
   "execution_count": 2,
   "metadata": {},
   "outputs": [],
   "source": [
    "class mybrowser():\n",
    "    def __init__(self):\n",
    "        # options物件主要用途為取消網頁中的彈出視窗，避免妨礙網路爬蟲的執行。\n",
    "        options = Options()\n",
    "        options.add_argument(\"--disable-notifications\")\n",
    "\n",
    "        # 第9行就是建立webdriver物件，傳入剛剛所下載的「瀏覽器驅動程式路徑」及「瀏覽器設定(chrome_options)」，\n",
    "        # 其中的「瀏覽器驅動程式路徑」一定要傳入，而「瀏覽器設定(chrome_options)」則可視情況傳入，為選擇性的。\n",
    "        path = 'C:/Users/Stephan/'\n",
    "        self.chrome = webdriver.Chrome(path + 'chromedriver.exe', options=options)\n",
    "        self.chrome.get(\"https://fhy.wra.gov.tw/ReservoirPage_2011/StorageCapacity.aspx\")\n",
    "    \n",
    "    def select_reservoir(self, month, day):\n",
    "        # 抓取下拉選單元件(水庫數量)\n",
    "        reservoir = self.chrome.find_element_by_id(\"ctl00_cphMain_cboSearch\")        \n",
    "        select = Select(reservoir)\n",
    "        # 取第二個選項\n",
    "        select.select_by_index(1)\n",
    "        time.sleep(2)\n",
    "        \n",
    "        # 抓取下拉選單元件 (月份)\n",
    "        the_element = self.chrome.find_element_by_id(\"ctl00_cphMain_ucDate_cboMonth\")\n",
    "        select_month = Select(the_element)\n",
    "        # 取第選項value \n",
    "        select_month.select_by_visible_text(month)\n",
    "        time.sleep(2)\n",
    "        \n",
    "        # 抓取下拉選單元件(日期)\n",
    "        the_element = self.chrome.find_element_by_id(\"ctl00_cphMain_ucDate_cboDay\")\n",
    "        select_month = Select(the_element)\n",
    "        # 取第選項value \n",
    "        select_month.select_by_visible_text(day)\n",
    "        time.sleep(2)\n",
    "        \n",
    "    def run_search(self):\n",
    "        search = self.chrome.find_element_by_id(\"ctl00_cphMain_btnQuery\")\n",
    "        search.click()\n",
    "        # loading 時間\n",
    "        time.sleep(3)\n",
    "        soup = BeautifulSoup(self.chrome.page_source, 'html.parser')\n",
    "        self.chrome.close()\n",
    "        return soup        "
   ]
  },
  {
   "cell_type": "code",
   "execution_count": 3,
   "metadata": {},
   "outputs": [],
   "source": [
    "def one_day(month, day, mydata = None):\n",
    "    browser = mybrowser()\n",
    "    browser.select_reservoir(month, day)\n",
    "    soup = browser.run_search()\n",
    "\n",
    "    tbls=soup.find('table')\n",
    "    trs=tbls.find_all('tr')\n",
    "\n",
    "    # Create empty data frame with reservoir as column\n",
    "    reservoir_name = []\n",
    "    for i in range (2, len(trs)-1):\n",
    "        reservoir_one =trs[i].find('td').get_text()\n",
    "        reservoir_name.append(reservoir_one)\n",
    "    \n",
    "    # Get the original column\n",
    "    column=trs[1].find_all('th')\n",
    "    column_list = [td.get_text() for td in column]\n",
    "    \n",
    "    # for first time\n",
    "    if mydata == None:        \n",
    "        # create dictionary with the original column as key\n",
    "        mydata = {} \n",
    "        df = pd.DataFrame(columns = reservoir_name)\n",
    "        value = [df for i in range(len(column_list))]\n",
    "        mydata = dict(zip(column_list,value))        \n",
    "    \n",
    "    # turn the html text into numpy array\n",
    "    data = []\n",
    "    for i in range (2, len(trs)-1):\n",
    "        tds=trs[i].find_all('td')\n",
    "        ls = []\n",
    "        for j in range(1, len(tds)):\n",
    "            ls.append(tds[j].get_text())\n",
    "        data.append(ls)\n",
    "    df = np.array(data)\n",
    "    df = df.T\n",
    "    \n",
    "    for i, one_att in enumerate(df):\n",
    "        old = mydata.get(column_list[i]) # get the dataframe of ith column\n",
    "        line = datetime(2021, int(month), int(day)) # date for index\n",
    "        new_row = pd.DataFrame([one_att], columns = reservoir_name, index=[line])\n",
    "        new = pd.concat([old, pd.DataFrame(new_row)], ignore_index=False)\n",
    "        mydata[column_list[i]] = new\n",
    "    return mydata"
   ]
  },
  {
   "cell_type": "code",
   "execution_count": 4,
   "metadata": {},
   "outputs": [
    {
     "ename": "NoSuchElementException",
     "evalue": "Message: no such element: Unable to locate element: {\"method\":\"css selector\",\"selector\":\"[id=\"ctl00_cphMain_cboSearch\"]\"}\n  (Session info: chrome=89.0.4389.128)\n",
     "output_type": "error",
     "traceback": [
      "\u001b[1;31m---------------------------------------------------------------------------\u001b[0m",
      "\u001b[1;31mNoSuchElementException\u001b[0m                    Traceback (most recent call last)",
      "\u001b[1;32m<ipython-input-4-6f95a5f0c859>\u001b[0m in \u001b[0;36m<module>\u001b[1;34m\u001b[0m\n\u001b[0;32m      7\u001b[0m             \u001b[1;32mcontinue\u001b[0m\u001b[1;33m\u001b[0m\u001b[1;33m\u001b[0m\u001b[0m\n\u001b[0;32m      8\u001b[0m         \u001b[0mmonth_st\u001b[0m\u001b[1;33m,\u001b[0m \u001b[0mday_st\u001b[0m \u001b[1;33m=\u001b[0m \u001b[0mstr\u001b[0m\u001b[1;33m(\u001b[0m\u001b[0mmonth\u001b[0m\u001b[1;33m)\u001b[0m\u001b[1;33m,\u001b[0m \u001b[0mstr\u001b[0m\u001b[1;33m(\u001b[0m\u001b[0mday\u001b[0m\u001b[1;33m)\u001b[0m\u001b[1;33m\u001b[0m\u001b[1;33m\u001b[0m\u001b[0m\n\u001b[1;32m----> 9\u001b[1;33m         \u001b[0mmydata\u001b[0m \u001b[1;33m=\u001b[0m \u001b[0mone_day\u001b[0m\u001b[1;33m(\u001b[0m\u001b[0mmonth_st\u001b[0m\u001b[1;33m,\u001b[0m \u001b[0mday_st\u001b[0m\u001b[1;33m,\u001b[0m \u001b[0mmydata\u001b[0m\u001b[1;33m)\u001b[0m\u001b[1;33m\u001b[0m\u001b[1;33m\u001b[0m\u001b[0m\n\u001b[0m",
      "\u001b[1;32m<ipython-input-3-3773dc72e960>\u001b[0m in \u001b[0;36mone_day\u001b[1;34m(month, day, mydata)\u001b[0m\n\u001b[0;32m      1\u001b[0m \u001b[1;32mdef\u001b[0m \u001b[0mone_day\u001b[0m\u001b[1;33m(\u001b[0m\u001b[0mmonth\u001b[0m\u001b[1;33m,\u001b[0m \u001b[0mday\u001b[0m\u001b[1;33m,\u001b[0m \u001b[0mmydata\u001b[0m \u001b[1;33m=\u001b[0m \u001b[1;32mNone\u001b[0m\u001b[1;33m)\u001b[0m\u001b[1;33m:\u001b[0m\u001b[1;33m\u001b[0m\u001b[1;33m\u001b[0m\u001b[0m\n\u001b[0;32m      2\u001b[0m     \u001b[0mbrowser\u001b[0m \u001b[1;33m=\u001b[0m \u001b[0mmybrowser\u001b[0m\u001b[1;33m(\u001b[0m\u001b[1;33m)\u001b[0m\u001b[1;33m\u001b[0m\u001b[1;33m\u001b[0m\u001b[0m\n\u001b[1;32m----> 3\u001b[1;33m     \u001b[0mbrowser\u001b[0m\u001b[1;33m.\u001b[0m\u001b[0mselect_reservoir\u001b[0m\u001b[1;33m(\u001b[0m\u001b[0mmonth\u001b[0m\u001b[1;33m,\u001b[0m \u001b[0mday\u001b[0m\u001b[1;33m)\u001b[0m\u001b[1;33m\u001b[0m\u001b[1;33m\u001b[0m\u001b[0m\n\u001b[0m\u001b[0;32m      4\u001b[0m     \u001b[0msoup\u001b[0m \u001b[1;33m=\u001b[0m \u001b[0mbrowser\u001b[0m\u001b[1;33m.\u001b[0m\u001b[0mrun_search\u001b[0m\u001b[1;33m(\u001b[0m\u001b[1;33m)\u001b[0m\u001b[1;33m\u001b[0m\u001b[1;33m\u001b[0m\u001b[0m\n\u001b[0;32m      5\u001b[0m \u001b[1;33m\u001b[0m\u001b[0m\n",
      "\u001b[1;32m<ipython-input-2-b06f58ac1bdd>\u001b[0m in \u001b[0;36mselect_reservoir\u001b[1;34m(self, month, day)\u001b[0m\n\u001b[0;32m     13\u001b[0m     \u001b[1;32mdef\u001b[0m \u001b[0mselect_reservoir\u001b[0m\u001b[1;33m(\u001b[0m\u001b[0mself\u001b[0m\u001b[1;33m,\u001b[0m \u001b[0mmonth\u001b[0m\u001b[1;33m,\u001b[0m \u001b[0mday\u001b[0m\u001b[1;33m)\u001b[0m\u001b[1;33m:\u001b[0m\u001b[1;33m\u001b[0m\u001b[1;33m\u001b[0m\u001b[0m\n\u001b[0;32m     14\u001b[0m         \u001b[1;31m# 抓取下拉選單元件(水庫數量)\u001b[0m\u001b[1;33m\u001b[0m\u001b[1;33m\u001b[0m\u001b[1;33m\u001b[0m\u001b[0m\n\u001b[1;32m---> 15\u001b[1;33m         \u001b[0mreservoir\u001b[0m \u001b[1;33m=\u001b[0m \u001b[0mself\u001b[0m\u001b[1;33m.\u001b[0m\u001b[0mchrome\u001b[0m\u001b[1;33m.\u001b[0m\u001b[0mfind_element_by_id\u001b[0m\u001b[1;33m(\u001b[0m\u001b[1;34m\"ctl00_cphMain_cboSearch\"\u001b[0m\u001b[1;33m)\u001b[0m\u001b[1;33m\u001b[0m\u001b[1;33m\u001b[0m\u001b[0m\n\u001b[0m\u001b[0;32m     16\u001b[0m         \u001b[0mselect\u001b[0m \u001b[1;33m=\u001b[0m \u001b[0mSelect\u001b[0m\u001b[1;33m(\u001b[0m\u001b[0mreservoir\u001b[0m\u001b[1;33m)\u001b[0m\u001b[1;33m\u001b[0m\u001b[1;33m\u001b[0m\u001b[0m\n\u001b[0;32m     17\u001b[0m         \u001b[1;31m# 取第二個選項\u001b[0m\u001b[1;33m\u001b[0m\u001b[1;33m\u001b[0m\u001b[1;33m\u001b[0m\u001b[0m\n",
      "\u001b[1;32m~\\anaconda3\\envs\\py38\\lib\\site-packages\\selenium\\webdriver\\remote\\webdriver.py\u001b[0m in \u001b[0;36mfind_element_by_id\u001b[1;34m(self, id_)\u001b[0m\n\u001b[0;32m    358\u001b[0m             \u001b[0melement\u001b[0m \u001b[1;33m=\u001b[0m \u001b[0mdriver\u001b[0m\u001b[1;33m.\u001b[0m\u001b[0mfind_element_by_id\u001b[0m\u001b[1;33m(\u001b[0m\u001b[1;34m'foo'\u001b[0m\u001b[1;33m)\u001b[0m\u001b[1;33m\u001b[0m\u001b[1;33m\u001b[0m\u001b[0m\n\u001b[0;32m    359\u001b[0m         \"\"\"\n\u001b[1;32m--> 360\u001b[1;33m         \u001b[1;32mreturn\u001b[0m \u001b[0mself\u001b[0m\u001b[1;33m.\u001b[0m\u001b[0mfind_element\u001b[0m\u001b[1;33m(\u001b[0m\u001b[0mby\u001b[0m\u001b[1;33m=\u001b[0m\u001b[0mBy\u001b[0m\u001b[1;33m.\u001b[0m\u001b[0mID\u001b[0m\u001b[1;33m,\u001b[0m \u001b[0mvalue\u001b[0m\u001b[1;33m=\u001b[0m\u001b[0mid_\u001b[0m\u001b[1;33m)\u001b[0m\u001b[1;33m\u001b[0m\u001b[1;33m\u001b[0m\u001b[0m\n\u001b[0m\u001b[0;32m    361\u001b[0m \u001b[1;33m\u001b[0m\u001b[0m\n\u001b[0;32m    362\u001b[0m     \u001b[1;32mdef\u001b[0m \u001b[0mfind_elements_by_id\u001b[0m\u001b[1;33m(\u001b[0m\u001b[0mself\u001b[0m\u001b[1;33m,\u001b[0m \u001b[0mid_\u001b[0m\u001b[1;33m)\u001b[0m\u001b[1;33m:\u001b[0m\u001b[1;33m\u001b[0m\u001b[1;33m\u001b[0m\u001b[0m\n",
      "\u001b[1;32m~\\anaconda3\\envs\\py38\\lib\\site-packages\\selenium\\webdriver\\remote\\webdriver.py\u001b[0m in \u001b[0;36mfind_element\u001b[1;34m(self, by, value)\u001b[0m\n\u001b[0;32m    974\u001b[0m                 \u001b[0mby\u001b[0m \u001b[1;33m=\u001b[0m \u001b[0mBy\u001b[0m\u001b[1;33m.\u001b[0m\u001b[0mCSS_SELECTOR\u001b[0m\u001b[1;33m\u001b[0m\u001b[1;33m\u001b[0m\u001b[0m\n\u001b[0;32m    975\u001b[0m                 \u001b[0mvalue\u001b[0m \u001b[1;33m=\u001b[0m \u001b[1;34m'[name=\"%s\"]'\u001b[0m \u001b[1;33m%\u001b[0m \u001b[0mvalue\u001b[0m\u001b[1;33m\u001b[0m\u001b[1;33m\u001b[0m\u001b[0m\n\u001b[1;32m--> 976\u001b[1;33m         return self.execute(Command.FIND_ELEMENT, {\n\u001b[0m\u001b[0;32m    977\u001b[0m             \u001b[1;34m'using'\u001b[0m\u001b[1;33m:\u001b[0m \u001b[0mby\u001b[0m\u001b[1;33m,\u001b[0m\u001b[1;33m\u001b[0m\u001b[1;33m\u001b[0m\u001b[0m\n\u001b[0;32m    978\u001b[0m             'value': value})['value']\n",
      "\u001b[1;32m~\\anaconda3\\envs\\py38\\lib\\site-packages\\selenium\\webdriver\\remote\\webdriver.py\u001b[0m in \u001b[0;36mexecute\u001b[1;34m(self, driver_command, params)\u001b[0m\n\u001b[0;32m    319\u001b[0m         \u001b[0mresponse\u001b[0m \u001b[1;33m=\u001b[0m \u001b[0mself\u001b[0m\u001b[1;33m.\u001b[0m\u001b[0mcommand_executor\u001b[0m\u001b[1;33m.\u001b[0m\u001b[0mexecute\u001b[0m\u001b[1;33m(\u001b[0m\u001b[0mdriver_command\u001b[0m\u001b[1;33m,\u001b[0m \u001b[0mparams\u001b[0m\u001b[1;33m)\u001b[0m\u001b[1;33m\u001b[0m\u001b[1;33m\u001b[0m\u001b[0m\n\u001b[0;32m    320\u001b[0m         \u001b[1;32mif\u001b[0m \u001b[0mresponse\u001b[0m\u001b[1;33m:\u001b[0m\u001b[1;33m\u001b[0m\u001b[1;33m\u001b[0m\u001b[0m\n\u001b[1;32m--> 321\u001b[1;33m             \u001b[0mself\u001b[0m\u001b[1;33m.\u001b[0m\u001b[0merror_handler\u001b[0m\u001b[1;33m.\u001b[0m\u001b[0mcheck_response\u001b[0m\u001b[1;33m(\u001b[0m\u001b[0mresponse\u001b[0m\u001b[1;33m)\u001b[0m\u001b[1;33m\u001b[0m\u001b[1;33m\u001b[0m\u001b[0m\n\u001b[0m\u001b[0;32m    322\u001b[0m             response['value'] = self._unwrap_value(\n\u001b[0;32m    323\u001b[0m                 response.get('value', None))\n",
      "\u001b[1;32m~\\anaconda3\\envs\\py38\\lib\\site-packages\\selenium\\webdriver\\remote\\errorhandler.py\u001b[0m in \u001b[0;36mcheck_response\u001b[1;34m(self, response)\u001b[0m\n\u001b[0;32m    240\u001b[0m                 \u001b[0malert_text\u001b[0m \u001b[1;33m=\u001b[0m \u001b[0mvalue\u001b[0m\u001b[1;33m[\u001b[0m\u001b[1;34m'alert'\u001b[0m\u001b[1;33m]\u001b[0m\u001b[1;33m.\u001b[0m\u001b[0mget\u001b[0m\u001b[1;33m(\u001b[0m\u001b[1;34m'text'\u001b[0m\u001b[1;33m)\u001b[0m\u001b[1;33m\u001b[0m\u001b[1;33m\u001b[0m\u001b[0m\n\u001b[0;32m    241\u001b[0m             \u001b[1;32mraise\u001b[0m \u001b[0mexception_class\u001b[0m\u001b[1;33m(\u001b[0m\u001b[0mmessage\u001b[0m\u001b[1;33m,\u001b[0m \u001b[0mscreen\u001b[0m\u001b[1;33m,\u001b[0m \u001b[0mstacktrace\u001b[0m\u001b[1;33m,\u001b[0m \u001b[0malert_text\u001b[0m\u001b[1;33m)\u001b[0m\u001b[1;33m\u001b[0m\u001b[1;33m\u001b[0m\u001b[0m\n\u001b[1;32m--> 242\u001b[1;33m         \u001b[1;32mraise\u001b[0m \u001b[0mexception_class\u001b[0m\u001b[1;33m(\u001b[0m\u001b[0mmessage\u001b[0m\u001b[1;33m,\u001b[0m \u001b[0mscreen\u001b[0m\u001b[1;33m,\u001b[0m \u001b[0mstacktrace\u001b[0m\u001b[1;33m)\u001b[0m\u001b[1;33m\u001b[0m\u001b[1;33m\u001b[0m\u001b[0m\n\u001b[0m\u001b[0;32m    243\u001b[0m \u001b[1;33m\u001b[0m\u001b[0m\n\u001b[0;32m    244\u001b[0m     \u001b[1;32mdef\u001b[0m \u001b[0m_value_or_default\u001b[0m\u001b[1;33m(\u001b[0m\u001b[0mself\u001b[0m\u001b[1;33m,\u001b[0m \u001b[0mobj\u001b[0m\u001b[1;33m,\u001b[0m \u001b[0mkey\u001b[0m\u001b[1;33m,\u001b[0m \u001b[0mdefault\u001b[0m\u001b[1;33m)\u001b[0m\u001b[1;33m:\u001b[0m\u001b[1;33m\u001b[0m\u001b[1;33m\u001b[0m\u001b[0m\n",
      "\u001b[1;31mNoSuchElementException\u001b[0m: Message: no such element: Unable to locate element: {\"method\":\"css selector\",\"selector\":\"[id=\"ctl00_cphMain_cboSearch\"]\"}\n  (Session info: chrome=89.0.4389.128)\n"
     ]
    }
   ],
   "source": [
    "mydata = None\n",
    "for month in range (1, 5):\n",
    "    for day in range (1, 32):\n",
    "        if month == 2 and day > 28:\n",
    "            continue\n",
    "        elif month == 4 and day > 14:\n",
    "            continue\n",
    "        month_st, day_st = str(month), str(day)\n",
    "        mydata = one_day(month_st, day_st, mydata)        "
   ]
  },
  {
   "cell_type": "code",
   "execution_count": 27,
   "metadata": {},
   "outputs": [
    {
     "data": {
      "text/plain": [
       "\"\\nmydata['出水量(萬立方公尺)'].to_csv('outwater.csv', encoding = 'utf-8-sig')\\nmydata['進水量(萬立方公尺)'].to_csv('inwater.csv', encoding = 'utf-8-sig')\\nmydata['有效蓄水量(萬立方公尺)'].to_csv('currentwater.csv', encoding = 'utf-8-sig')\\nmydata['有效容量(萬立方公尺)'].to_csv('capacity.csv', encoding = 'utf-8-sig')\\nmydata['蓄水量百分比(%)'].to_csv('percentage.csv', encoding = 'utf-8-sig')\\nmydata['集水區降雨量(毫米)'].to_csv('raining.csv', encoding = 'utf-8-sig')\\n\""
      ]
     },
     "execution_count": 27,
     "metadata": {},
     "output_type": "execute_result"
    }
   ],
   "source": [
    "# Create a Pandas Excel writer using XlsxWriter as the engine.\n",
    "writer = pd.ExcelWriter('reservoir_info.xlsx', engine='xlsxwriter')\n",
    "# Write each dataframe to a different worksheet.\n",
    "mydata['出水量(萬立方公尺)'].to_excel(writer, sheet_name='outwater', encoding = 'utf-8-sig')\n",
    "mydata['進水量(萬立方公尺)'].to_excel(writer, sheet_name='inwater', encoding = 'utf-8-sig')\n",
    "mydata['有效蓄水量(萬立方公尺)'].to_excel(writer, sheet_name='current_level', encoding = 'utf-8-sig')\n",
    "mydata['有效容量(萬立方公尺)'].to_excel(writer, sheet_name='capacity', encoding = 'utf-8-sig')\n",
    "mydata['蓄水量百分比(%)'].to_excel(writer, sheet_name='percentage', encoding = 'utf-8-sig')\n",
    "mydata['集水區降雨量(毫米)'].to_excel(writer, sheet_name='rain', encoding = 'utf-8-sig')\n",
    "writer.save()\n",
    "'''\n",
    "mydata['出水量(萬立方公尺)'].to_csv('outwater.csv', encoding = 'utf-8-sig')\n",
    "mydata['進水量(萬立方公尺)'].to_csv('inwater.csv', encoding = 'utf-8-sig')\n",
    "mydata['有效蓄水量(萬立方公尺)'].to_csv('currentwater.csv', encoding = 'utf-8-sig')\n",
    "mydata['有效容量(萬立方公尺)'].to_csv('capacity.csv', encoding = 'utf-8-sig')\n",
    "mydata['蓄水量百分比(%)'].to_csv('percentage.csv', encoding = 'utf-8-sig')\n",
    "mydata['集水區降雨量(毫米)'].to_csv('raining.csv', encoding = 'utf-8-sig')\n",
    "'''"
   ]
  },
  {
   "cell_type": "code",
   "execution_count": null,
   "metadata": {},
   "outputs": [],
   "source": []
  }
 ],
 "metadata": {
  "kernelspec": {
   "display_name": "Python 3",
   "language": "python",
   "name": "python3"
  },
  "language_info": {
   "codemirror_mode": {
    "name": "ipython",
    "version": 3
   },
   "file_extension": ".py",
   "mimetype": "text/x-python",
   "name": "python",
   "nbconvert_exporter": "python",
   "pygments_lexer": "ipython3",
   "version": "3.8.5"
  }
 },
 "nbformat": 4,
 "nbformat_minor": 4
}
